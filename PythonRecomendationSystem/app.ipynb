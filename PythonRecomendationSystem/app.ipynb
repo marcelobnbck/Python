{
 "cells": [
  {
   "cell_type": "code",
   "execution_count": null,
   "id": "0b954890",
   "metadata": {
    "_cell_guid": "b1076dfc-b9ad-4769-8c92-a6c4dae69d19",
    "_uuid": "8f2839f25d086af736a60e9eeb907d3b93b6e0e5",
    "execution": {
     "iopub.execute_input": "2025-03-14T18:26:49.359550Z",
     "iopub.status.busy": "2025-03-14T18:26:49.359164Z",
     "iopub.status.idle": "2025-03-14T18:26:52.643628Z",
     "shell.execute_reply": "2025-03-14T18:26:52.642448Z"
    },
    "papermill": {
     "duration": 3.293378,
     "end_time": "2025-03-14T18:26:52.645788",
     "exception": false,
     "start_time": "2025-03-14T18:26:49.352410",
     "status": "completed"
    },
    "tags": []
   },
   "outputs": [],
   "source": [
    "# Libraries\n",
    "import numpy as np\n",
    "import pandas as pd\n",
    "import matplotlib.pyplot as plt\n",
    "import seaborn as sns\n",
    "%matplotlib inline\n",
    "import warnings\n",
    "warnings.filterwarnings(\"ignore\")\n",
    "\n",
    "from ast import literal_eval \n",
    "from sklearn.feature_extraction.text import CountVectorizer\n",
    "from sklearn.metrics.pairwise import cosine_similarity"
   ]
  },
  {
   "cell_type": "code",
   "execution_count": 2,
   "id": "110c881c",
   "metadata": {
    "execution": {
     "iopub.execute_input": "2025-03-14T18:26:52.657835Z",
     "iopub.status.busy": "2025-03-14T18:26:52.657274Z",
     "iopub.status.idle": "2025-03-14T18:26:53.971644Z",
     "shell.execute_reply": "2025-03-14T18:26:53.970774Z"
    },
    "papermill": {
     "duration": 1.322299,
     "end_time": "2025-03-14T18:26:53.973464",
     "exception": false,
     "start_time": "2025-03-14T18:26:52.651165",
     "status": "completed"
    },
    "tags": []
   },
   "outputs": [],
   "source": [
    "# Importing the Dataset\n",
    "data = pd.read_csv('C:/Pocs/Python/PythonRecomendationSystem/movies_metadata.csv', low_memory = False)"
   ]
  },
  {
   "cell_type": "code",
   "execution_count": 3,
   "id": "0a761659",
   "metadata": {
    "execution": {
     "iopub.execute_input": "2025-03-14T18:26:53.988870Z",
     "iopub.status.busy": "2025-03-14T18:26:53.988382Z",
     "iopub.status.idle": "2025-03-14T18:26:53.999080Z",
     "shell.execute_reply": "2025-03-14T18:26:53.997959Z"
    },
    "papermill": {
     "duration": 0.020172,
     "end_time": "2025-03-14T18:26:54.001315",
     "exception": false,
     "start_time": "2025-03-14T18:26:53.981143",
     "status": "completed"
    },
    "tags": []
   },
   "outputs": [],
   "source": [
    "# Building the Content Based Recommender\n",
    "# Calculating the average vote rate\n",
    "vote_rate = data['vote_average'].mean()"
   ]
  },
  {
   "cell_type": "code",
   "execution_count": 4,
   "id": "0567bf56",
   "metadata": {
    "execution": {
     "iopub.execute_input": "2025-03-14T18:26:54.012600Z",
     "iopub.status.busy": "2025-03-14T18:26:54.012235Z",
     "iopub.status.idle": "2025-03-14T18:26:54.021189Z",
     "shell.execute_reply": "2025-03-14T18:26:54.020270Z"
    },
    "papermill": {
     "duration": 0.016881,
     "end_time": "2025-03-14T18:26:54.023220",
     "exception": false,
     "start_time": "2025-03-14T18:26:54.006339",
     "status": "completed"
    },
    "tags": []
   },
   "outputs": [],
   "source": [
    "# Calculating the minimum number of votes to be in the chart\n",
    "min_votes = data['vote_count'].quantile(0.90)"
   ]
  },
  {
   "cell_type": "code",
   "execution_count": 5,
   "id": "81e02a67",
   "metadata": {
    "execution": {
     "iopub.execute_input": "2025-03-14T18:26:54.034515Z",
     "iopub.status.busy": "2025-03-14T18:26:54.034176Z",
     "iopub.status.idle": "2025-03-14T18:26:54.062793Z",
     "shell.execute_reply": "2025-03-14T18:26:54.061770Z"
    },
    "papermill": {
     "duration": 0.036379,
     "end_time": "2025-03-14T18:26:54.064728",
     "exception": false,
     "start_time": "2025-03-14T18:26:54.028349",
     "status": "completed"
    },
    "tags": []
   },
   "outputs": [],
   "source": [
    "# Filtering out all qualified movies into a new DataFrame\n",
    "new_moviesdf = data.copy().loc[data['vote_count'] >= min_votes]"
   ]
  },
  {
   "cell_type": "code",
   "execution_count": 6,
   "id": "6d4f6146",
   "metadata": {
    "execution": {
     "iopub.execute_input": "2025-03-14T18:26:54.076934Z",
     "iopub.status.busy": "2025-03-14T18:26:54.076546Z",
     "iopub.status.idle": "2025-03-14T18:26:54.081452Z",
     "shell.execute_reply": "2025-03-14T18:26:54.080328Z"
    },
    "papermill": {
     "duration": 0.01384,
     "end_time": "2025-03-14T18:26:54.083754",
     "exception": false,
     "start_time": "2025-03-14T18:26:54.069914",
     "status": "completed"
    },
    "tags": []
   },
   "outputs": [],
   "source": [
    "# Computing the score(rating) of each movie\n",
    "def score(x, min_votes = min_votes, vote_rate = vote_rate):\n",
    "    vote_cnt = x['vote_count']\n",
    "    vote_avg = x['vote_average']\n",
    "    # Calculation based on the IMDB formula\n",
    "    return (vote_cnt/(vote_cnt+min_votes) * vote_avg) + (min_votes/(min_votes+vote_cnt) * vote_rate)"
   ]
  },
  {
   "cell_type": "code",
   "execution_count": 7,
   "id": "66b5155c",
   "metadata": {
    "execution": {
     "iopub.execute_input": "2025-03-14T18:26:54.095534Z",
     "iopub.status.busy": "2025-03-14T18:26:54.095181Z",
     "iopub.status.idle": "2025-03-14T18:26:54.159138Z",
     "shell.execute_reply": "2025-03-14T18:26:54.157952Z"
    },
    "papermill": {
     "duration": 0.072003,
     "end_time": "2025-03-14T18:26:54.161105",
     "exception": false,
     "start_time": "2025-03-14T18:26:54.089102",
     "status": "completed"
    },
    "tags": []
   },
   "outputs": [],
   "source": [
    "# Defining a new feature 'score' and calculate its value\n",
    "new_moviesdf['score'] = new_moviesdf.apply(score, axis=1)"
   ]
  },
  {
   "cell_type": "code",
   "execution_count": 8,
   "id": "9ca80fde",
   "metadata": {
    "execution": {
     "iopub.execute_input": "2025-03-14T18:26:54.173513Z",
     "iopub.status.busy": "2025-03-14T18:26:54.173083Z",
     "iopub.status.idle": "2025-03-14T18:26:54.183972Z",
     "shell.execute_reply": "2025-03-14T18:26:54.182794Z"
    },
    "papermill": {
     "duration": 0.01971,
     "end_time": "2025-03-14T18:26:54.185990",
     "exception": false,
     "start_time": "2025-03-14T18:26:54.166280",
     "status": "completed"
    },
    "tags": []
   },
   "outputs": [],
   "source": [
    "# Sorting the movies based on score calculated above\n",
    "new_moviesdf = new_moviesdf.sort_values('score', ascending=False)"
   ]
  },
  {
   "cell_type": "code",
   "execution_count": 9,
   "id": "dacc746f",
   "metadata": {
    "execution": {
     "iopub.execute_input": "2025-03-14T18:26:54.197848Z",
     "iopub.status.busy": "2025-03-14T18:26:54.197397Z",
     "iopub.status.idle": "2025-03-14T18:26:58.597538Z",
     "shell.execute_reply": "2025-03-14T18:26:58.596353Z"
    },
    "papermill": {
     "duration": 4.408253,
     "end_time": "2025-03-14T18:26:58.599509",
     "exception": false,
     "start_time": "2025-03-14T18:26:54.191256",
     "status": "completed"
    },
    "tags": []
   },
   "outputs": [],
   "source": [
    "# Load keywords and credits\n",
    "credits = pd.read_csv('C:/Pocs/Python/PythonRecomendationSystem/credits.csv')\n",
    "keywords = pd.read_csv('C:/Pocs/Python/PythonRecomendationSystem/keywords.csv')"
   ]
  },
  {
   "cell_type": "code",
   "execution_count": 10,
   "id": "f0ec9a06",
   "metadata": {
    "execution": {
     "iopub.execute_input": "2025-03-14T18:26:58.611093Z",
     "iopub.status.busy": "2025-03-14T18:26:58.610632Z",
     "iopub.status.idle": "2025-03-14T18:26:58.852551Z",
     "shell.execute_reply": "2025-03-14T18:26:58.851418Z"
    },
    "papermill": {
     "duration": 0.249654,
     "end_time": "2025-03-14T18:26:58.854564",
     "exception": false,
     "start_time": "2025-03-14T18:26:58.604910",
     "status": "completed"
    },
    "tags": []
   },
   "outputs": [],
   "source": [
    "# Remove rows with bad IDs.\n",
    "data = data.drop([19730, 29503, 35587])\n",
    "\n",
    "# Convert IDs to int (Merging Purpose)\n",
    "keywords['id'] = keywords['id'].astype('int')\n",
    "credits['id'] = credits['id'].astype('int')\n",
    "data['id'] = data['id'].astype('int')\n",
    "\n",
    "# Merge keywords and credits into main 'data' dataframe\n",
    "data = data.merge(credits, on='id')\n",
    "data = data.merge(keywords, on='id')"
   ]
  },
  {
   "cell_type": "code",
   "execution_count": 11,
   "id": "2f2c2b13",
   "metadata": {
    "execution": {
     "iopub.execute_input": "2025-03-14T18:26:58.865854Z",
     "iopub.status.busy": "2025-03-14T18:26:58.865456Z",
     "iopub.status.idle": "2025-03-14T18:27:37.862435Z",
     "shell.execute_reply": "2025-03-14T18:27:37.861530Z"
    },
    "papermill": {
     "duration": 39.004658,
     "end_time": "2025-03-14T18:27:37.864310",
     "exception": false,
     "start_time": "2025-03-14T18:26:58.859652",
     "status": "completed"
    },
    "tags": []
   },
   "outputs": [],
   "source": [
    "# Parsing the string features into their corresponding python objects\n",
    "features = ['cast', 'crew', 'keywords', 'genres']\n",
    "for feature in features:\n",
    "    data[feature] = data[feature].apply(literal_eval)"
   ]
  },
  {
   "cell_type": "code",
   "execution_count": 12,
   "id": "a8bc8d23",
   "metadata": {
    "execution": {
     "iopub.execute_input": "2025-03-14T18:27:37.875528Z",
     "iopub.status.busy": "2025-03-14T18:27:37.875110Z",
     "iopub.status.idle": "2025-03-14T18:27:37.879605Z",
     "shell.execute_reply": "2025-03-14T18:27:37.878619Z"
    },
    "papermill": {
     "duration": 0.011823,
     "end_time": "2025-03-14T18:27:37.881286",
     "exception": false,
     "start_time": "2025-03-14T18:27:37.869463",
     "status": "completed"
    },
    "tags": []
   },
   "outputs": [],
   "source": [
    "def get_director(x):\n",
    "    for i in x:\n",
    "        if i['job'] == 'Director':\n",
    "            return i['name']\n",
    "    return np.nan"
   ]
  },
  {
   "cell_type": "code",
   "execution_count": 13,
   "id": "cd9133a0",
   "metadata": {
    "execution": {
     "iopub.execute_input": "2025-03-14T18:27:37.892123Z",
     "iopub.status.busy": "2025-03-14T18:27:37.891751Z",
     "iopub.status.idle": "2025-03-14T18:27:37.896770Z",
     "shell.execute_reply": "2025-03-14T18:27:37.895639Z"
    },
    "papermill": {
     "duration": 0.012443,
     "end_time": "2025-03-14T18:27:37.898550",
     "exception": false,
     "start_time": "2025-03-14T18:27:37.886107",
     "status": "completed"
    },
    "tags": []
   },
   "outputs": [],
   "source": [
    "def get_list(x):\n",
    "    if isinstance(x, list):\n",
    "        names = [i['name'] for i in x]\n",
    "        # Check if more than 3 elements exist. If yes, return only first three. If no, return entire list.\n",
    "        if len(names) > 3:\n",
    "            names = names[:3]\n",
    "        return names\n",
    "    # Return empty list in case of missing/malformed data\n",
    "    return []"
   ]
  },
  {
   "cell_type": "code",
   "execution_count": 14,
   "id": "b6304356",
   "metadata": {
    "execution": {
     "iopub.execute_input": "2025-03-14T18:27:37.909717Z",
     "iopub.status.busy": "2025-03-14T18:27:37.909331Z",
     "iopub.status.idle": "2025-03-14T18:27:38.765775Z",
     "shell.execute_reply": "2025-03-14T18:27:38.764546Z"
    },
    "papermill": {
     "duration": 0.864455,
     "end_time": "2025-03-14T18:27:38.767943",
     "exception": false,
     "start_time": "2025-03-14T18:27:37.903488",
     "status": "completed"
    },
    "tags": []
   },
   "outputs": [],
   "source": [
    "# Define new director, cast, genres and keywords features that are in a suitable form.\n",
    "data['director'] = data['crew'].apply(get_director)\n",
    "\n",
    "features = ['cast', 'keywords', 'genres']\n",
    "for feature in features:\n",
    "    data[feature] = data[feature].apply(get_list)"
   ]
  },
  {
   "cell_type": "code",
   "execution_count": 15,
   "id": "8c98243e",
   "metadata": {
    "execution": {
     "iopub.execute_input": "2025-03-14T18:27:38.779066Z",
     "iopub.status.busy": "2025-03-14T18:27:38.778711Z",
     "iopub.status.idle": "2025-03-14T18:27:38.783515Z",
     "shell.execute_reply": "2025-03-14T18:27:38.782606Z"
    },
    "papermill": {
     "duration": 0.012054,
     "end_time": "2025-03-14T18:27:38.784953",
     "exception": false,
     "start_time": "2025-03-14T18:27:38.772899",
     "status": "completed"
    },
    "tags": []
   },
   "outputs": [],
   "source": [
    "# Function to convert all strings to lower case and strip names of spaces\n",
    "def clean_data(x):\n",
    "    if isinstance(x, list):\n",
    "        return [str.lower(i.replace(\" \", \"\")) for i in x]\n",
    "    else:\n",
    "        # Check if director exists. If not, return empty string\n",
    "        if isinstance(x, str):\n",
    "            return str.lower(x.replace(\" \", \"\"))\n",
    "        else:\n",
    "            return ''"
   ]
  },
  {
   "cell_type": "code",
   "execution_count": 16,
   "id": "6b6955d4",
   "metadata": {
    "execution": {
     "iopub.execute_input": "2025-03-14T18:27:38.796110Z",
     "iopub.status.busy": "2025-03-14T18:27:38.795701Z",
     "iopub.status.idle": "2025-03-14T18:27:39.507693Z",
     "shell.execute_reply": "2025-03-14T18:27:39.506561Z"
    },
    "papermill": {
     "duration": 0.719644,
     "end_time": "2025-03-14T18:27:39.509553",
     "exception": false,
     "start_time": "2025-03-14T18:27:38.789909",
     "status": "completed"
    },
    "tags": []
   },
   "outputs": [],
   "source": [
    "# Apply clean_data function to your features.\n",
    "features = ['cast', 'keywords', 'director', 'genres']\n",
    "\n",
    "for feature in features:\n",
    "    data[feature] = data[feature].apply(clean_data)"
   ]
  },
  {
   "cell_type": "code",
   "execution_count": 17,
   "id": "3fa4b884",
   "metadata": {
    "execution": {
     "iopub.execute_input": "2025-03-14T18:27:39.520582Z",
     "iopub.status.busy": "2025-03-14T18:27:39.520217Z",
     "iopub.status.idle": "2025-03-14T18:27:39.524744Z",
     "shell.execute_reply": "2025-03-14T18:27:39.523774Z"
    },
    "papermill": {
     "duration": 0.011671,
     "end_time": "2025-03-14T18:27:39.526297",
     "exception": false,
     "start_time": "2025-03-14T18:27:39.514626",
     "status": "completed"
    },
    "tags": []
   },
   "outputs": [],
   "source": [
    "def merge(x):\n",
    "    return ' '.join(x['keywords']) + ' ' + ' '.join(x['cast']) + ' ' + x['director'] + ' ' + ' '.join(x['genres'])"
   ]
  },
  {
   "cell_type": "code",
   "execution_count": 18,
   "id": "9ac6cfe1",
   "metadata": {
    "execution": {
     "iopub.execute_input": "2025-03-14T18:27:39.537251Z",
     "iopub.status.busy": "2025-03-14T18:27:39.536918Z",
     "iopub.status.idle": "2025-03-14T18:27:40.259398Z",
     "shell.execute_reply": "2025-03-14T18:27:40.258462Z"
    },
    "papermill": {
     "duration": 0.730053,
     "end_time": "2025-03-14T18:27:40.261311",
     "exception": false,
     "start_time": "2025-03-14T18:27:39.531258",
     "status": "completed"
    },
    "tags": []
   },
   "outputs": [],
   "source": [
    "data['merge'] = data.apply(merge, axis=1)"
   ]
  },
  {
   "cell_type": "code",
   "execution_count": 19,
   "id": "f5774496",
   "metadata": {
    "execution": {
     "iopub.execute_input": "2025-03-14T18:27:40.272747Z",
     "iopub.status.busy": "2025-03-14T18:27:40.272323Z",
     "iopub.status.idle": "2025-03-14T18:27:41.205349Z",
     "shell.execute_reply": "2025-03-14T18:27:41.204199Z"
    },
    "papermill": {
     "duration": 0.941189,
     "end_time": "2025-03-14T18:27:41.207546",
     "exception": false,
     "start_time": "2025-03-14T18:27:40.266357",
     "status": "completed"
    },
    "tags": []
   },
   "outputs": [],
   "source": [
    "# Create the count matrix\n",
    "count = CountVectorizer(stop_words='english')\n",
    "count_matrix = count.fit_transform(data['merge'])"
   ]
  },
  {
   "cell_type": "code",
   "execution_count": 21,
   "id": "f7d89261",
   "metadata": {
    "execution": {
     "iopub.execute_input": "2025-03-14T18:27:41.218957Z",
     "iopub.status.busy": "2025-03-14T18:27:41.218554Z",
     "iopub.status.idle": "2025-03-14T18:28:22.371905Z",
     "shell.execute_reply": "2025-03-14T18:28:22.370583Z"
    },
    "papermill": {
     "duration": 41.161032,
     "end_time": "2025-03-14T18:28:22.373757",
     "exception": false,
     "start_time": "2025-03-14T18:27:41.212725",
     "status": "completed"
    },
    "tags": []
   },
   "outputs": [
    {
     "ename": "MemoryError",
     "evalue": "Unable to allocate 16.2 GiB for an array with shape (46628, 46628) and data type float64",
     "output_type": "error",
     "traceback": [
      "\u001b[31m---------------------------------------------------------------------------\u001b[39m",
      "\u001b[31mMemoryError\u001b[39m                               Traceback (most recent call last)",
      "\u001b[36mCell\u001b[39m\u001b[36m \u001b[39m\u001b[32mIn[21]\u001b[39m\u001b[32m, line 2\u001b[39m\n\u001b[32m      1\u001b[39m \u001b[38;5;66;03m# Compute the Cosine Similarity matrix based on the count_matrix\u001b[39;00m\n\u001b[32m----> \u001b[39m\u001b[32m2\u001b[39m cosine_sim = \u001b[43mcosine_similarity\u001b[49m\u001b[43m(\u001b[49m\u001b[43mcount_matrix\u001b[49m\u001b[43m,\u001b[49m\u001b[43m \u001b[49m\u001b[43mcount_matrix\u001b[49m\u001b[43m)\u001b[49m\n",
      "\u001b[36mFile \u001b[39m\u001b[32mc:\\Users\\Usuario\\AppData\\Local\\Programs\\Python\\Python313\\Lib\\site-packages\\sklearn\\utils\\_param_validation.py:216\u001b[39m, in \u001b[36mvalidate_params.<locals>.decorator.<locals>.wrapper\u001b[39m\u001b[34m(*args, **kwargs)\u001b[39m\n\u001b[32m    210\u001b[39m \u001b[38;5;28;01mtry\u001b[39;00m:\n\u001b[32m    211\u001b[39m     \u001b[38;5;28;01mwith\u001b[39;00m config_context(\n\u001b[32m    212\u001b[39m         skip_parameter_validation=(\n\u001b[32m    213\u001b[39m             prefer_skip_nested_validation \u001b[38;5;129;01mor\u001b[39;00m global_skip_validation\n\u001b[32m    214\u001b[39m         )\n\u001b[32m    215\u001b[39m     ):\n\u001b[32m--> \u001b[39m\u001b[32m216\u001b[39m         \u001b[38;5;28;01mreturn\u001b[39;00m \u001b[43mfunc\u001b[49m\u001b[43m(\u001b[49m\u001b[43m*\u001b[49m\u001b[43margs\u001b[49m\u001b[43m,\u001b[49m\u001b[43m \u001b[49m\u001b[43m*\u001b[49m\u001b[43m*\u001b[49m\u001b[43mkwargs\u001b[49m\u001b[43m)\u001b[49m\n\u001b[32m    217\u001b[39m \u001b[38;5;28;01mexcept\u001b[39;00m InvalidParameterError \u001b[38;5;28;01mas\u001b[39;00m e:\n\u001b[32m    218\u001b[39m     \u001b[38;5;66;03m# When the function is just a wrapper around an estimator, we allow\u001b[39;00m\n\u001b[32m    219\u001b[39m     \u001b[38;5;66;03m# the function to delegate validation to the estimator, but we replace\u001b[39;00m\n\u001b[32m    220\u001b[39m     \u001b[38;5;66;03m# the name of the estimator by the name of the function in the error\u001b[39;00m\n\u001b[32m    221\u001b[39m     \u001b[38;5;66;03m# message to avoid confusion.\u001b[39;00m\n\u001b[32m    222\u001b[39m     msg = re.sub(\n\u001b[32m    223\u001b[39m         \u001b[33mr\u001b[39m\u001b[33m\"\u001b[39m\u001b[33mparameter of \u001b[39m\u001b[33m\\\u001b[39m\u001b[33mw+ must be\u001b[39m\u001b[33m\"\u001b[39m,\n\u001b[32m    224\u001b[39m         \u001b[33mf\u001b[39m\u001b[33m\"\u001b[39m\u001b[33mparameter of \u001b[39m\u001b[38;5;132;01m{\u001b[39;00mfunc.\u001b[34m__qualname__\u001b[39m\u001b[38;5;132;01m}\u001b[39;00m\u001b[33m must be\u001b[39m\u001b[33m\"\u001b[39m,\n\u001b[32m    225\u001b[39m         \u001b[38;5;28mstr\u001b[39m(e),\n\u001b[32m    226\u001b[39m     )\n",
      "\u001b[36mFile \u001b[39m\u001b[32mc:\\Users\\Usuario\\AppData\\Local\\Programs\\Python\\Python313\\Lib\\site-packages\\sklearn\\metrics\\pairwise.py:1749\u001b[39m, in \u001b[36mcosine_similarity\u001b[39m\u001b[34m(X, Y, dense_output)\u001b[39m\n\u001b[32m   1746\u001b[39m \u001b[38;5;28;01melse\u001b[39;00m:\n\u001b[32m   1747\u001b[39m     Y_normalized = normalize(Y, copy=\u001b[38;5;28;01mTrue\u001b[39;00m)\n\u001b[32m-> \u001b[39m\u001b[32m1749\u001b[39m K = \u001b[43msafe_sparse_dot\u001b[49m\u001b[43m(\u001b[49m\u001b[43mX_normalized\u001b[49m\u001b[43m,\u001b[49m\u001b[43m \u001b[49m\u001b[43mY_normalized\u001b[49m\u001b[43m.\u001b[49m\u001b[43mT\u001b[49m\u001b[43m,\u001b[49m\u001b[43m \u001b[49m\u001b[43mdense_output\u001b[49m\u001b[43m=\u001b[49m\u001b[43mdense_output\u001b[49m\u001b[43m)\u001b[49m\n\u001b[32m   1751\u001b[39m \u001b[38;5;28;01mreturn\u001b[39;00m K\n",
      "\u001b[36mFile \u001b[39m\u001b[32mc:\\Users\\Usuario\\AppData\\Local\\Programs\\Python\\Python313\\Lib\\site-packages\\sklearn\\utils\\extmath.py:211\u001b[39m, in \u001b[36msafe_sparse_dot\u001b[39m\u001b[34m(a, b, dense_output)\u001b[39m\n\u001b[32m    203\u001b[39m     ret = a @ b\n\u001b[32m    205\u001b[39m \u001b[38;5;28;01mif\u001b[39;00m (\n\u001b[32m    206\u001b[39m     sparse.issparse(a)\n\u001b[32m    207\u001b[39m     \u001b[38;5;129;01mand\u001b[39;00m sparse.issparse(b)\n\u001b[32m    208\u001b[39m     \u001b[38;5;129;01mand\u001b[39;00m dense_output\n\u001b[32m    209\u001b[39m     \u001b[38;5;129;01mand\u001b[39;00m \u001b[38;5;28mhasattr\u001b[39m(ret, \u001b[33m\"\u001b[39m\u001b[33mtoarray\u001b[39m\u001b[33m\"\u001b[39m)\n\u001b[32m    210\u001b[39m ):\n\u001b[32m--> \u001b[39m\u001b[32m211\u001b[39m     \u001b[38;5;28;01mreturn\u001b[39;00m \u001b[43mret\u001b[49m\u001b[43m.\u001b[49m\u001b[43mtoarray\u001b[49m\u001b[43m(\u001b[49m\u001b[43m)\u001b[49m\n\u001b[32m    212\u001b[39m \u001b[38;5;28;01mreturn\u001b[39;00m ret\n",
      "\u001b[36mFile \u001b[39m\u001b[32mc:\\Users\\Usuario\\AppData\\Local\\Programs\\Python\\Python313\\Lib\\site-packages\\scipy\\sparse\\_compressed.py:1170\u001b[39m, in \u001b[36m_cs_matrix.toarray\u001b[39m\u001b[34m(self, order, out)\u001b[39m\n\u001b[32m   1168\u001b[39m \u001b[38;5;28;01mif\u001b[39;00m out \u001b[38;5;129;01mis\u001b[39;00m \u001b[38;5;28;01mNone\u001b[39;00m \u001b[38;5;129;01mand\u001b[39;00m order \u001b[38;5;129;01mis\u001b[39;00m \u001b[38;5;28;01mNone\u001b[39;00m:\n\u001b[32m   1169\u001b[39m     order = \u001b[38;5;28mself\u001b[39m._swap(\u001b[33m'\u001b[39m\u001b[33mcf\u001b[39m\u001b[33m'\u001b[39m)[\u001b[32m0\u001b[39m]\n\u001b[32m-> \u001b[39m\u001b[32m1170\u001b[39m out = \u001b[38;5;28;43mself\u001b[39;49m\u001b[43m.\u001b[49m\u001b[43m_process_toarray_args\u001b[49m\u001b[43m(\u001b[49m\u001b[43morder\u001b[49m\u001b[43m,\u001b[49m\u001b[43m \u001b[49m\u001b[43mout\u001b[49m\u001b[43m)\u001b[49m\n\u001b[32m   1171\u001b[39m \u001b[38;5;28;01mif\u001b[39;00m \u001b[38;5;129;01mnot\u001b[39;00m (out.flags.c_contiguous \u001b[38;5;129;01mor\u001b[39;00m out.flags.f_contiguous):\n\u001b[32m   1172\u001b[39m     \u001b[38;5;28;01mraise\u001b[39;00m \u001b[38;5;167;01mValueError\u001b[39;00m(\u001b[33m'\u001b[39m\u001b[33mOutput array must be C or F contiguous\u001b[39m\u001b[33m'\u001b[39m)\n",
      "\u001b[36mFile \u001b[39m\u001b[32mc:\\Users\\Usuario\\AppData\\Local\\Programs\\Python\\Python313\\Lib\\site-packages\\scipy\\sparse\\_base.py:1367\u001b[39m, in \u001b[36m_spbase._process_toarray_args\u001b[39m\u001b[34m(self, order, out)\u001b[39m\n\u001b[32m   1365\u001b[39m     \u001b[38;5;28;01mreturn\u001b[39;00m out\n\u001b[32m   1366\u001b[39m \u001b[38;5;28;01melse\u001b[39;00m:\n\u001b[32m-> \u001b[39m\u001b[32m1367\u001b[39m     \u001b[38;5;28;01mreturn\u001b[39;00m \u001b[43mnp\u001b[49m\u001b[43m.\u001b[49m\u001b[43mzeros\u001b[49m\u001b[43m(\u001b[49m\u001b[38;5;28;43mself\u001b[39;49m\u001b[43m.\u001b[49m\u001b[43mshape\u001b[49m\u001b[43m,\u001b[49m\u001b[43m \u001b[49m\u001b[43mdtype\u001b[49m\u001b[43m=\u001b[49m\u001b[38;5;28;43mself\u001b[39;49m\u001b[43m.\u001b[49m\u001b[43mdtype\u001b[49m\u001b[43m,\u001b[49m\u001b[43m \u001b[49m\u001b[43morder\u001b[49m\u001b[43m=\u001b[49m\u001b[43morder\u001b[49m\u001b[43m)\u001b[49m\n",
      "\u001b[31mMemoryError\u001b[39m: Unable to allocate 16.2 GiB for an array with shape (46628, 46628) and data type float64"
     ]
    }
   ],
   "source": [
    "# Compute the Cosine Similarity matrix based on the count_matrix\n",
    "cosine_sim = cosine_similarity(count_matrix, count_matrix)"
   ]
  },
  {
   "cell_type": "code",
   "execution_count": null,
   "id": "6d95047e",
   "metadata": {
    "execution": {
     "iopub.execute_input": "2025-03-14T18:28:22.385743Z",
     "iopub.status.busy": "2025-03-14T18:28:22.385341Z",
     "iopub.status.idle": "2025-03-14T18:28:22.478348Z",
     "shell.execute_reply": "2025-03-14T18:28:22.477318Z"
    },
    "papermill": {
     "duration": 0.101549,
     "end_time": "2025-03-14T18:28:22.480627",
     "exception": false,
     "start_time": "2025-03-14T18:28:22.379078",
     "status": "completed"
    },
    "tags": []
   },
   "outputs": [],
   "source": [
    "# Reset index of your main DataFrame and construct reverse mapping as before\n",
    "data = data.reset_index()\n",
    "indices = pd.Series(data.index, index = data['title'])"
   ]
  },
  {
   "cell_type": "code",
   "execution_count": null,
   "id": "f71718c1",
   "metadata": {
    "execution": {
     "iopub.execute_input": "2025-03-14T18:28:22.492345Z",
     "iopub.status.busy": "2025-03-14T18:28:22.491996Z",
     "iopub.status.idle": "2025-03-14T18:28:22.497829Z",
     "shell.execute_reply": "2025-03-14T18:28:22.496759Z"
    },
    "papermill": {
     "duration": 0.013719,
     "end_time": "2025-03-14T18:28:22.499702",
     "exception": false,
     "start_time": "2025-03-14T18:28:22.485983",
     "status": "completed"
    },
    "tags": []
   },
   "outputs": [],
   "source": [
    "# Function that takes in movie title as input and outputs most similar movies\n",
    "def recommend_movies(title, cosine_sim=cosine_sim):\n",
    "    # Get the index of the movie that matches the title\n",
    "    idx = indices[title]\n",
    "\n",
    "    # Get the pairwsie similarity scores of all movies with that movie\n",
    "    sim_scores = list(enumerate(cosine_sim[idx]))\n",
    "\n",
    "    # Sort the movies based on the similarity scores\n",
    "    sim_scores = sorted(sim_scores, key=lambda x: x[1], reverse=True)\n",
    "\n",
    "    # Get the scores of the 10 most similar movies\n",
    "    sim_scores = sim_scores[1:11]\n",
    "\n",
    "    # Get the movie indices\n",
    "    movie_indices = [i[0] for i in sim_scores]\n",
    "\n",
    "    # Return the top 10 most similar movies\n",
    "    return data['title'].iloc[movie_indices]"
   ]
  },
  {
   "cell_type": "code",
   "execution_count": null,
   "id": "48fb8ae7",
   "metadata": {
    "execution": {
     "iopub.execute_input": "2025-03-14T18:28:22.511233Z",
     "iopub.status.busy": "2025-03-14T18:28:22.510842Z",
     "iopub.status.idle": "2025-03-14T18:28:22.566450Z",
     "shell.execute_reply": "2025-03-14T18:28:22.565228Z"
    },
    "papermill": {
     "duration": 0.063354,
     "end_time": "2025-03-14T18:28:22.568289",
     "exception": false,
     "start_time": "2025-03-14T18:28:22.504935",
     "status": "completed"
    },
    "tags": []
   },
   "outputs": [
    {
     "data": {
      "text/plain": [
       "3012                       Toy Story 2\n",
       "15444                      Toy Story 3\n",
       "29156                  Superstar Goofy\n",
       "25951       Toy Story That Time Forgot\n",
       "22064             Toy Story of Terror!\n",
       "3324                 Creature Comforts\n",
       "25949                  Partysaurus Rex\n",
       "27560                            Anina\n",
       "43059    Dexter's Laboratory: Ego Trip\n",
       "27959                    Radiopiratene\n",
       "Name: title, dtype: object"
      ]
     },
     "execution_count": 23,
     "metadata": {},
     "output_type": "execute_result"
    }
   ],
   "source": [
    "recommend_movies('The Godfather')"
   ]
  }
 ],
 "metadata": {
  "kaggle": {
   "accelerator": "none",
   "dataSources": [
    {
     "datasetId": 6865952,
     "sourceId": 11025589,
     "sourceType": "datasetVersion"
    },
    {
     "datasetId": 6869644,
     "sourceId": 11030371,
     "sourceType": "datasetVersion"
    },
    {
     "datasetId": 6869659,
     "sourceId": 11030388,
     "sourceType": "datasetVersion"
    }
   ],
   "dockerImageVersionId": 30918,
   "isGpuEnabled": false,
   "isInternetEnabled": false,
   "language": "python",
   "sourceType": "notebook"
  },
  "kernelspec": {
   "display_name": "Python 3",
   "language": "python",
   "name": "python3"
  },
  "language_info": {
   "codemirror_mode": {
    "name": "ipython",
    "version": 3
   },
   "file_extension": ".py",
   "mimetype": "text/x-python",
   "name": "python",
   "nbconvert_exporter": "python",
   "pygments_lexer": "ipython3",
   "version": "3.13.2"
  },
  "papermill": {
   "default_parameters": {},
   "duration": 98.713061,
   "end_time": "2025-03-14T18:28:25.192781",
   "environment_variables": {},
   "exception": null,
   "input_path": "__notebook__.ipynb",
   "output_path": "__notebook__.ipynb",
   "parameters": {},
   "start_time": "2025-03-14T18:26:46.479720",
   "version": "2.6.0"
  }
 },
 "nbformat": 4,
 "nbformat_minor": 5
}
